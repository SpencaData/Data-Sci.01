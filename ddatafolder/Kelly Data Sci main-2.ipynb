{
 "cells": [
  {
   "cell_type": "code",
   "execution_count": 1,
   "id": "2719afbe",
   "metadata": {},
   "outputs": [
    {
     "name": "stdout",
     "output_type": "stream",
     "text": [
      "Hello student your batch is DG0823\n"
     ]
    }
   ],
   "source": [
    "print(\"Hello student your batch is DG0823\")"
   ]
  },
  {
   "cell_type": "code",
   "execution_count": 7,
   "id": "64f8f18b",
   "metadata": {},
   "outputs": [
    {
     "name": "stdout",
     "output_type": "stream",
     "text": [
      "Kachi Ayogu\n"
     ]
    }
   ],
   "source": [
    "print(\"Kachi Ayogu\")"
   ]
  },
  {
   "cell_type": "code",
   "execution_count": 6,
   "id": "224aa8b2",
   "metadata": {},
   "outputs": [
    {
     "data": {
      "text/plain": [
       "44"
      ]
     },
     "execution_count": 6,
     "metadata": {},
     "output_type": "execute_result"
    }
   ],
   "source": [
    "10+34"
   ]
  },
  {
   "cell_type": "markdown",
   "id": "eeabf8e1",
   "metadata": {},
   "source": [
    "ESC+A=add the cell above the current cell\n",
    "ESC+B=add the cell below the current cell\n",
    "ESC+DD=delete a particular cell\n",
    "Ctrl+enter=to run or execute a cell"
   ]
  },
  {
   "cell_type": "markdown",
   "id": "12bc1d2e",
   "metadata": {},
   "source": [
    "23/5"
   ]
  },
  {
   "cell_type": "code",
   "execution_count": 9,
   "id": "ffbc57a5",
   "metadata": {},
   "outputs": [
    {
     "data": {
      "text/plain": [
       "13.0"
      ]
     },
     "execution_count": 9,
     "metadata": {},
     "output_type": "execute_result"
    }
   ],
   "source": [
    "78/6"
   ]
  },
  {
   "cell_type": "code",
   "execution_count": 8,
   "id": "95fa0ff2",
   "metadata": {},
   "outputs": [
    {
     "data": {
      "text/plain": [
       "336"
      ]
     },
     "execution_count": 8,
     "metadata": {},
     "output_type": "execute_result"
    }
   ],
   "source": [
    "56*6"
   ]
  },
  {
   "cell_type": "code",
   "execution_count": null,
   "id": "48112ae0",
   "metadata": {},
   "outputs": [],
   "source": []
  }
 ],
 "metadata": {
  "kernelspec": {
   "display_name": "Python 3 (ipykernel)",
   "language": "python",
   "name": "python3"
  },
  "language_info": {
   "codemirror_mode": {
    "name": "ipython",
    "version": 3
   },
   "file_extension": ".py",
   "mimetype": "text/x-python",
   "name": "python",
   "nbconvert_exporter": "python",
   "pygments_lexer": "ipython3",
   "version": "3.11.4"
  }
 },
 "nbformat": 4,
 "nbformat_minor": 5
}
